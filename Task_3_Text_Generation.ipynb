{
  "nbformat": 4,
  "nbformat_minor": 0,
  "metadata": {
    "colab": {
      "provenance": []
    },
    "kernelspec": {
      "name": "python3",
      "display_name": "Python 3"
    },
    "language_info": {
      "name": "python"
    }
  },
  "cells": [
    {
      "cell_type": "code",
      "execution_count": 1,
      "metadata": {
        "colab": {
          "base_uri": "https://localhost:8080/"
        },
        "id": "mtU4mXKpNHDu",
        "outputId": "ff915691-d023-4d77-f4d0-8da2364473a8"
      },
      "outputs": [
        {
          "output_type": "stream",
          "name": "stdout",
          "text": [
            "Collecting markovify\n",
            "  Downloading markovify-0.9.4-py3-none-any.whl.metadata (23 kB)\n",
            "Collecting unidecode (from markovify)\n",
            "  Downloading Unidecode-1.4.0-py3-none-any.whl.metadata (13 kB)\n",
            "Downloading markovify-0.9.4-py3-none-any.whl (19 kB)\n",
            "Downloading Unidecode-1.4.0-py3-none-any.whl (235 kB)\n",
            "\u001b[2K   \u001b[90m━━━━━━━━━━━━━━━━━━━━━━━━━━━━━━━━━━━━━━━━\u001b[0m \u001b[32m235.8/235.8 kB\u001b[0m \u001b[31m6.6 MB/s\u001b[0m eta \u001b[36m0:00:00\u001b[0m\n",
            "\u001b[?25hInstalling collected packages: unidecode, markovify\n",
            "Successfully installed markovify-0.9.4 unidecode-1.4.0\n"
          ]
        }
      ],
      "source": [
        "import sys\n",
        "!{sys.executable} -m pip install markovify"
      ]
    },
    {
      "cell_type": "code",
      "source": [
        "import markovify"
      ],
      "metadata": {
        "id": "1jrsK0HTNRik"
      },
      "execution_count": 2,
      "outputs": []
    },
    {
      "cell_type": "code",
      "source": [
        "with open(\"sonnet.txt\", encoding='ISO-8859-1') as f:\n",
        "    sonnet_text = f.read()"
      ],
      "metadata": {
        "id": "OS06bak3SOAf"
      },
      "execution_count": 4,
      "outputs": []
    },
    {
      "cell_type": "code",
      "source": [
        "sonnet_model = markovify.NewlineText(sonnet_text, state_size=1)"
      ],
      "metadata": {
        "id": "KGxtOiljSQIU"
      },
      "execution_count": 5,
      "outputs": []
    },
    {
      "cell_type": "code",
      "source": [
        "print(sonnet_model.make_sentence())"
      ],
      "metadata": {
        "colab": {
          "base_uri": "https://localhost:8080/"
        },
        "id": "DE1tXY72SUD0",
        "outputId": "df8b77f1-d273-43b9-b88e-f30361782b66"
      },
      "execution_count": 6,
      "outputs": [
        {
          "output_type": "stream",
          "name": "stdout",
          "text": [
            "For thy days.\n"
          ]
        }
      ]
    },
    {
      "cell_type": "code",
      "source": [
        "for i in range(14):\n",
        "    print(sonnet_model.make_sentence())"
      ],
      "metadata": {
        "colab": {
          "base_uri": "https://localhost:8080/"
        },
        "id": "-w7TTgr9SW9E",
        "outputId": "ae3499b0-736c-400e-a28b-6f72df23eb04"
      },
      "execution_count": 7,
      "outputs": [
        {
          "output_type": "stream",
          "name": "stdout",
          "text": [
            "Who lead thee so fair health, recounting it thee and thine eyes thy might?\n",
            "Than unswept stone besmeared with thee, dear love as objects to flatterer stoppèd are.\n",
            "When my fate,\n",
            "That all best of a perfect best I do suggest me when heavens sun\n",
            "Which like a little love-god, lying once gone,\n",
            "Under that there can I do show my breast;\n",
            "For that I guess one early morn did quickly steep\n",
            "Because he owes thee I honor most.\n",
            "Then look for my unkind abuse.\n",
            "From limits far the judgment that your life that in one, of anothers hell.\n",
            "And, to my false subtleties.\n",
            "My love today, tomorrow kind,\n",
            "O, none, or natures riches where thou bestowst\n",
            "But were born was thine eye awake,\n"
          ]
        }
      ]
    },
    {
      "cell_type": "code",
      "source": [
        "whos"
      ],
      "metadata": {
        "colab": {
          "base_uri": "https://localhost:8080/"
        },
        "id": "J-gv0CCcTc60",
        "outputId": "389137ab-8976-4fe2-87ee-9bcc54bc40f1"
      },
      "execution_count": 8,
      "outputs": [
        {
          "output_type": "stream",
          "name": "stdout",
          "text": [
            "Variable       Type             Data/Info\n",
            "-----------------------------------------\n",
            "f              TextIOWrapper    <_io.TextIOWrapper name='<...>r' encoding='ISO-8859-1'>\n",
            "i              int              13\n",
            "markovify      module           <module 'markovify' from <...>s/markovify/__init__.py'>\n",
            "sonnet_model   NewlineText      <markovify.text.NewlineTe<...>object at 0x7885dd9e19d0>\n",
            "sonnet_text    str              Sonnets\\nBy William Shake<...> one out.\\n[sig. A 4]\\n\\n\n",
            "sys            module           <module 'sys' (built-in)>\n"
          ]
        }
      ]
    },
    {
      "cell_type": "code",
      "source": [
        "for i in range(10):\n",
        "    print(sonnet_model.make_short_sentence(100, test_output=False))"
      ],
      "metadata": {
        "colab": {
          "base_uri": "https://localhost:8080/"
        },
        "id": "gZib0zSwTiKC",
        "outputId": "5ad8f18c-2164-441f-fc94-3bf32ee71537"
      },
      "execution_count": 9,
      "outputs": [
        {
          "output_type": "stream",
          "name": "stdout",
          "text": [
            "And sweets and all my good thoughts and no man in seeming;\n",
            "O me, to make our faults graces that grows with his height be shown,\n",
            "What potions have spent.\n",
            "Uttring bare is he in abundance lies,\n",
            "I am old\n",
            "So far to eternity.\n",
            "Ah, wherefore says she altered new;\n",
            "Myself Ill live a lease,\n",
            "Thou hast too much glory;\n",
            "Which alters when thou the freedom of woe,\n"
          ]
        }
      ]
    }
  ]
}